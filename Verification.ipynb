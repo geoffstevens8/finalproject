{
 "cells": [
  {
   "cell_type": "markdown",
   "metadata": {},
   "source": [
    "# Verification"
   ]
  },
  {
   "cell_type": "markdown",
   "metadata": {},
   "source": [
    "For verification, we will test our models on comments from the month of November 2015. In a similar manner as we scraped, we will take top-level comments from the top reddit threads of that month and predict scores."
   ]
  },
  {
   "cell_type": "code",
   "execution_count": 1,
   "metadata": {
    "collapsed": true
   },
   "outputs": [],
   "source": [
    "%matplotlib inline\n",
    "import numpy as np\n",
    "import scipy as sp\n",
    "import matplotlib as mpl\n",
    "import matplotlib.cm as cm\n",
    "import matplotlib.pyplot as plt\n",
    "import seaborn as sns\n",
    "sns.set_style(\"whitegrid\")\n",
    "sns.set_context(\"poster\")\n",
    "import pandas as pd\n",
    "pd.set_option('display.width', 500)\n",
    "pd.set_option('display.max_columns', 100)\n",
    "pd.set_option('display.notebook_repr_html', True)\n",
    "import time\n",
    "from bs4 import BeautifulSoup\n",
    "import urllib2\n",
    "import re\n",
    "import praw\n",
    "import cPickle"
   ]
  },
  {
   "cell_type": "code",
   "execution_count": 1,
   "metadata": {
    "collapsed": false
   },
   "outputs": [
    {
     "name": "stdout",
     "output_type": "stream",
     "text": [
      "1446350400..1448859600\n"
     ]
    }
   ],
   "source": [
    "mmddyy_range = ('11-01-2015', '11-30-2015')\n",
    "f_epoch = lambda x: int(time.mktime(time.strptime(x, '%m-%d-%Y')))\n",
    "time_range = str(f_epoch(mmddyy_range[0])) + '..' + str(f_epoch(mmddyy_range[1]))\n",
    "print time_range"
   ]
  },
  {
   "cell_type": "markdown",
   "metadata": {},
   "source": [
    "We will thus scrape from the URL https://www.reddit.com/r/AskReddit/search?sort=top&q=timestamp%3A1446350400..1448859600&restrict_sr=on&syntax=cloudsearch, where we sort by \"top\" this time instead of \"comments\" -- we want threads that have been voted extensively upon. The result should be the top-level comments scraped from the highest-voted twenty-five threads."
   ]
  },
  {
   "cell_type": "code",
   "execution_count": 2,
   "metadata": {
    "collapsed": false,
    "scrolled": false
   },
   "outputs": [],
   "source": [
    "url = 'https://www.reddit.com/r/AskReddit/search?sort=top&q=timestamp%3A1446350400..1448859600&restrict_sr=on&syntax=cloudsearch'"
   ]
  },
  {
   "cell_type": "code",
   "execution_count": 3,
   "metadata": {
    "collapsed": false
   },
   "outputs": [],
   "source": [
    "data = BeautifulSoup(urllib2.urlopen(url).read(), 'html.parser')"
   ]
  },
  {
   "cell_type": "code",
   "execution_count": 4,
   "metadata": {
    "collapsed": false
   },
   "outputs": [
    {
     "name": "stdout",
     "output_type": "stream",
     "text": [
      "['3tdwy2', '3ucqxj', '3regbo', '3r2siv', '3secjr', '3ta5bz', '3si0bb', '3t1q82', '3tfpe2', '3ruhnj', '3r76bx', '3so18a', '3rbzln', '3tkemy', '3rih54', '3u2szy', '3u76qe', '3su6er', '3tid38', '3tqjr6', '3ur7jx', '3rg1rf', '3ualrk', '3ss8oz', '3rmbnh']\n"
     ]
    }
   ],
   "source": [
    "rows = data.findAll(\"a\", attrs = {'class': 'search-comments may-blank'}, limit=None)\n",
    "url_list = [str(r.attrs['href'])[:-17] + '.json' for r in rows]\n",
    "\n",
    "thread_ids = []\n",
    "for elt in url_list:\n",
    "    time.sleep(30)\n",
    "    json_text = urllib2.urlopen(elt).read()\n",
    "    thread_ids.append(re.search(r'\\\"id\\\": \\\"([a-zA-Z0-9_]+)\\\"', json_text).group(1))"
   ]
  },
  {
   "cell_type": "code",
   "execution_count": 5,
   "metadata": {
    "collapsed": false
   },
   "outputs": [],
   "source": [
    "r = praw.Reddit('Getting comments for CS109 Final Project')\n",
    "\n",
    "thread_d = {}\n",
    "for t_id in thread_ids:\n",
    "    time.sleep(10) # lots of HTTP request errors!\n",
    "    submission = r.get_submission(submission_id=t_id)\n",
    "    submission.replace_more_comments(limit=100, threshold=0)\n",
    "    all_comments = submission.comments\n",
    "    thread_d[t_id] = all_comments"
   ]
  },
  {
   "cell_type": "code",
   "execution_count": 6,
   "metadata": {
    "collapsed": false
   },
   "outputs": [
    {
     "name": "stdout",
     "output_type": "stream",
     "text": [
      "25\n"
     ]
    }
   ],
   "source": [
    "print len(thread_d)"
   ]
  },
  {
   "cell_type": "code",
   "execution_count": 8,
   "metadata": {
    "collapsed": false
   },
   "outputs": [
    {
     "name": "stdout",
     "output_type": "stream",
     "text": [
      "36787\n"
     ]
    }
   ],
   "source": [
    "print sum([len(comments) for thread, comments in thread_d.items()])"
   ]
  },
  {
   "cell_type": "code",
   "execution_count": 10,
   "metadata": {
    "collapsed": false
   },
   "outputs": [
    {
     "name": "stdout",
     "output_type": "stream",
     "text": [
      "25\n",
      "36787\n"
     ]
    }
   ],
   "source": [
    "cPickle.dump(thread_d, open('v_comments_dict.p', 'wb')) \n",
    "thread_d_load = cPickle.load(open('v_comments_dict.p', 'rb'))\n",
    "print len(thread_d_load)\n",
    "print sum([len(comments) for thread, comments in thread_d_load.items()])"
   ]
  },
  {
   "cell_type": "markdown",
   "metadata": {},
   "source": [
    "Repeating the feature selection process:"
   ]
  },
  {
   "cell_type": "code",
   "execution_count": null,
   "metadata": {
    "collapsed": false
   },
   "outputs": [],
   "source": [
    "fields = ['_replies',\n",
    "          '_submission',\n",
    "          'author',\n",
    "          'author_flair_css_class',\n",
    "          'author_flair_text',\n",
    "          'banned_by',\n",
    "          'body',\n",
    "          'body_html',\n",
    "          'controversiality',\n",
    "          'created',\n",
    "          'created_utc',\n",
    "          'distinguished',\n",
    "          'downs',\n",
    "          'edited',\n",
    "          'gilded',\n",
    "          'score',\n",
    "          'score_hidden',\n",
    "          'subreddit',\n",
    "          'ups'\n",
    "         ]\n",
    "\n",
    "dlist = []\n",
    "for thread in thread_d_load: \n",
    "    for comment in thread_d_load[thread]:\n",
    "        temp_d = {}\n",
    "        temp_d['thread'] = thread\n",
    "        for field in fields:\n",
    "            temp_d[field] = comment.__dict__[field]\n",
    "        dlist.append(temp_d)"
   ]
  },
  {
   "cell_type": "code",
   "execution_count": 12,
   "metadata": {
    "collapsed": true
   },
   "outputs": [],
   "source": [
    "df = pd.DataFrame(dlist)"
   ]
  },
  {
   "cell_type": "code",
   "execution_count": 13,
   "metadata": {
    "collapsed": false
   },
   "outputs": [
    {
     "data": {
      "text/html": [
       "<div>\n",
       "<table border=\"1\" class=\"dataframe\">\n",
       "  <thead>\n",
       "    <tr style=\"text-align: right;\">\n",
       "      <th></th>\n",
       "      <th>_replies</th>\n",
       "      <th>_submission</th>\n",
       "      <th>author</th>\n",
       "      <th>author_flair_css_class</th>\n",
       "      <th>author_flair_text</th>\n",
       "      <th>banned_by</th>\n",
       "      <th>body</th>\n",
       "      <th>body_html</th>\n",
       "      <th>controversiality</th>\n",
       "      <th>created</th>\n",
       "      <th>created_utc</th>\n",
       "      <th>distinguished</th>\n",
       "      <th>downs</th>\n",
       "      <th>edited</th>\n",
       "      <th>gilded</th>\n",
       "      <th>score</th>\n",
       "      <th>score_hidden</th>\n",
       "      <th>subreddit</th>\n",
       "      <th>thread</th>\n",
       "      <th>ups</th>\n",
       "    </tr>\n",
       "  </thead>\n",
       "  <tbody>\n",
       "    <tr>\n",
       "      <th>0</th>\n",
       "      <td>[That guy is more confused than a toddler at a...</td>\n",
       "      <td>5809 :: What is an analogy that gets your poin...</td>\n",
       "      <td>implementor</td>\n",
       "      <td>None</td>\n",
       "      <td>None</td>\n",
       "      <td>None</td>\n",
       "      <td>One I heard from my grandfather, about a kid t...</td>\n",
       "      <td>&lt;div class=\"md\"&gt;&lt;p&gt;One I heard from my grandfa...</td>\n",
       "      <td>0</td>\n",
       "      <td>1447359044</td>\n",
       "      <td>1447330244</td>\n",
       "      <td>None</td>\n",
       "      <td>0</td>\n",
       "      <td>False</td>\n",
       "      <td>0</td>\n",
       "      <td>2504</td>\n",
       "      <td>False</td>\n",
       "      <td>AskReddit</td>\n",
       "      <td>3si0bb</td>\n",
       "      <td>2504</td>\n",
       "    </tr>\n",
       "    <tr>\n",
       "      <th>1</th>\n",
       "      <td>[Oooh,  I'm stealing this one for the people t...</td>\n",
       "      <td>5809 :: What is an analogy that gets your poin...</td>\n",
       "      <td>PuxinF</td>\n",
       "      <td>None</td>\n",
       "      <td>None</td>\n",
       "      <td>None</td>\n",
       "      <td>Motorcycles are like butt plugs.  It doesn't m...</td>\n",
       "      <td>&lt;div class=\"md\"&gt;&lt;p&gt;Motorcycles are like butt p...</td>\n",
       "      <td>0</td>\n",
       "      <td>1447347016</td>\n",
       "      <td>1447318216</td>\n",
       "      <td>None</td>\n",
       "      <td>0</td>\n",
       "      <td>False</td>\n",
       "      <td>0</td>\n",
       "      <td>3278</td>\n",
       "      <td>False</td>\n",
       "      <td>AskReddit</td>\n",
       "      <td>3si0bb</td>\n",
       "      <td>3278</td>\n",
       "    </tr>\n",
       "    <tr>\n",
       "      <th>2</th>\n",
       "      <td>[Huh, this actually seems the most relevant an...</td>\n",
       "      <td>5809 :: What is an analogy that gets your poin...</td>\n",
       "      <td>FlyingGerbel</td>\n",
       "      <td>None</td>\n",
       "      <td>None</td>\n",
       "      <td>None</td>\n",
       "      <td>My boss was once describing the size of a smal...</td>\n",
       "      <td>&lt;div class=\"md\"&gt;&lt;p&gt;My boss was once describing...</td>\n",
       "      <td>0</td>\n",
       "      <td>1447346788</td>\n",
       "      <td>1447317988</td>\n",
       "      <td>None</td>\n",
       "      <td>0</td>\n",
       "      <td>False</td>\n",
       "      <td>0</td>\n",
       "      <td>6277</td>\n",
       "      <td>False</td>\n",
       "      <td>AskReddit</td>\n",
       "      <td>3si0bb</td>\n",
       "      <td>6277</td>\n",
       "    </tr>\n",
       "    <tr>\n",
       "      <th>3</th>\n",
       "      <td>[I've heard them referred to as mumble pants -...</td>\n",
       "      <td>5809 :: What is an analogy that gets your poin...</td>\n",
       "      <td>Toady_</td>\n",
       "      <td>None</td>\n",
       "      <td>None</td>\n",
       "      <td>None</td>\n",
       "      <td>My mom, while talking about one of my sisters'...</td>\n",
       "      <td>&lt;div class=\"md\"&gt;&lt;p&gt;My mom, while talking about...</td>\n",
       "      <td>0</td>\n",
       "      <td>1447344342</td>\n",
       "      <td>1447315542</td>\n",
       "      <td>None</td>\n",
       "      <td>0</td>\n",
       "      <td>False</td>\n",
       "      <td>0</td>\n",
       "      <td>3976</td>\n",
       "      <td>False</td>\n",
       "      <td>AskReddit</td>\n",
       "      <td>3si0bb</td>\n",
       "      <td>3976</td>\n",
       "    </tr>\n",
       "    <tr>\n",
       "      <th>4</th>\n",
       "      <td>[Placeholder post until I can come up with a q...</td>\n",
       "      <td>5809 :: What is an analogy that gets your poin...</td>\n",
       "      <td>shidonichan</td>\n",
       "      <td>None</td>\n",
       "      <td>None</td>\n",
       "      <td>None</td>\n",
       "      <td>maybe not *wildly* inappropriate, but:\\n\\ni've...</td>\n",
       "      <td>&lt;div class=\"md\"&gt;&lt;p&gt;maybe not &lt;em&gt;wildly&lt;/em&gt; i...</td>\n",
       "      <td>0</td>\n",
       "      <td>1447341519</td>\n",
       "      <td>1447312719</td>\n",
       "      <td>None</td>\n",
       "      <td>0</td>\n",
       "      <td>False</td>\n",
       "      <td>0</td>\n",
       "      <td>2915</td>\n",
       "      <td>False</td>\n",
       "      <td>AskReddit</td>\n",
       "      <td>3si0bb</td>\n",
       "      <td>2915</td>\n",
       "    </tr>\n",
       "  </tbody>\n",
       "</table>\n",
       "</div>"
      ],
      "text/plain": [
       "                                            _replies  \\\n",
       "0  [That guy is more confused than a toddler at a...   \n",
       "1  [Oooh,  I'm stealing this one for the people t...   \n",
       "2  [Huh, this actually seems the most relevant an...   \n",
       "3  [I've heard them referred to as mumble pants -...   \n",
       "4  [Placeholder post until I can come up with a q...   \n",
       "\n",
       "                                         _submission        author  \\\n",
       "0  5809 :: What is an analogy that gets your poin...   implementor   \n",
       "1  5809 :: What is an analogy that gets your poin...        PuxinF   \n",
       "2  5809 :: What is an analogy that gets your poin...  FlyingGerbel   \n",
       "3  5809 :: What is an analogy that gets your poin...        Toady_   \n",
       "4  5809 :: What is an analogy that gets your poin...   shidonichan   \n",
       "\n",
       "  author_flair_css_class author_flair_text banned_by  \\\n",
       "0                   None              None      None   \n",
       "1                   None              None      None   \n",
       "2                   None              None      None   \n",
       "3                   None              None      None   \n",
       "4                   None              None      None   \n",
       "\n",
       "                                                body  \\\n",
       "0  One I heard from my grandfather, about a kid t...   \n",
       "1  Motorcycles are like butt plugs.  It doesn't m...   \n",
       "2  My boss was once describing the size of a smal...   \n",
       "3  My mom, while talking about one of my sisters'...   \n",
       "4  maybe not *wildly* inappropriate, but:\\n\\ni've...   \n",
       "\n",
       "                                           body_html  controversiality  \\\n",
       "0  <div class=\"md\"><p>One I heard from my grandfa...                 0   \n",
       "1  <div class=\"md\"><p>Motorcycles are like butt p...                 0   \n",
       "2  <div class=\"md\"><p>My boss was once describing...                 0   \n",
       "3  <div class=\"md\"><p>My mom, while talking about...                 0   \n",
       "4  <div class=\"md\"><p>maybe not <em>wildly</em> i...                 0   \n",
       "\n",
       "      created  created_utc distinguished  downs edited  gilded  score  \\\n",
       "0  1447359044   1447330244          None      0  False       0   2504   \n",
       "1  1447347016   1447318216          None      0  False       0   3278   \n",
       "2  1447346788   1447317988          None      0  False       0   6277   \n",
       "3  1447344342   1447315542          None      0  False       0   3976   \n",
       "4  1447341519   1447312719          None      0  False       0   2915   \n",
       "\n",
       "  score_hidden  subreddit  thread   ups  \n",
       "0        False  AskReddit  3si0bb  2504  \n",
       "1        False  AskReddit  3si0bb  3278  \n",
       "2        False  AskReddit  3si0bb  6277  \n",
       "3        False  AskReddit  3si0bb  3976  \n",
       "4        False  AskReddit  3si0bb  2915  "
      ]
     },
     "execution_count": 13,
     "metadata": {},
     "output_type": "execute_result"
    }
   ],
   "source": [
    "df.head()"
   ]
  },
  {
   "cell_type": "code",
   "execution_count": 15,
   "metadata": {
    "collapsed": true
   },
   "outputs": [],
   "source": [
    "df['character_count'] = df['body'].map(lambda x : len(x))"
   ]
  },
  {
   "cell_type": "code",
   "execution_count": 16,
   "metadata": {
    "collapsed": true
   },
   "outputs": [],
   "source": [
    "df['time_delay'] = df.apply(lambda row : row['created_utc'] - row['_submission'].created_utc, axis=1)"
   ]
  },
  {
   "cell_type": "code",
   "execution_count": 17,
   "metadata": {
    "collapsed": true
   },
   "outputs": [],
   "source": [
    "def word_count(text):\n",
    "    wordList = re.sub(\"[^\\w]\", \" \",  text).split()\n",
    "    return len(wordList)\n",
    "\n",
    "df['word_count'] = df['body'].map(lambda x : word_count(x))"
   ]
  },
  {
   "cell_type": "code",
   "execution_count": 18,
   "metadata": {
    "collapsed": true
   },
   "outputs": [],
   "source": [
    "import csv\n",
    "\n",
    "input_file = csv.DictReader(open(\"profanity.csv\"))\n",
    "\n",
    "SWEARS = []\n",
    "for row in input_file:\n",
    "    SWEARS.append(row[\"swears\"])\n",
    "\n",
    "def swear_count(text):\n",
    "    count = 0\n",
    "    for swear in SWEARS:\n",
    "        if swear in text:\n",
    "            count = count + 1\n",
    "    return count\n",
    "\n",
    "df['swear_count'] = df['body'].map(lambda x : swear_count(x))"
   ]
  },
  {
   "cell_type": "code",
   "execution_count": 19,
   "metadata": {
    "collapsed": true
   },
   "outputs": [],
   "source": [
    "def word_size(text):\n",
    "    words = re.sub(\"[^\\w]\", \" \",  text).split()\n",
    "    if len(words) > 0: \n",
    "        avg = sum(len(word) for word in words)/len(words)\n",
    "    else:\n",
    "        return 0\n",
    "    return avg\n",
    "\n",
    "df['word_size'] = df['body'].map(lambda x : word_size(x))"
   ]
  },
  {
   "cell_type": "code",
   "execution_count": 20,
   "metadata": {
    "collapsed": true
   },
   "outputs": [],
   "source": [
    "def link_count(html):\n",
    "    urls = re.findall('<a href=\"?\\'?([^\"\\'>]*)', html)\n",
    "    count = len(urls)\n",
    "    return count\n",
    "\n",
    "df['link_count'] = df['body_html'].map(lambda x : link_count(x))"
   ]
  },
  {
   "cell_type": "code",
   "execution_count": 21,
   "metadata": {
    "collapsed": true
   },
   "outputs": [],
   "source": [
    "def italics_count(html):\n",
    "    italics = re.findall('<em>', html)\n",
    "    count = len(italics)\n",
    "    return count\n",
    "\n",
    "df['italics_count'] = df['body_html'].map(lambda x : italics_count(x))"
   ]
  },
  {
   "cell_type": "code",
   "execution_count": 22,
   "metadata": {
    "collapsed": true
   },
   "outputs": [],
   "source": [
    "def bold_count(html):\n",
    "    bold = re.findall('<strong>', html)\n",
    "    count = len(bold)\n",
    "    return count\n",
    "\n",
    "df['bold_count'] = df['body_html'].map(lambda x : bold_count(x))"
   ]
  },
  {
   "cell_type": "code",
   "execution_count": 23,
   "metadata": {
    "collapsed": true
   },
   "outputs": [],
   "source": [
    "def st_count(html):\n",
    "    st = re.findall('<s>', html)\n",
    "    count = len(st)\n",
    "    return count\n",
    "\n",
    "df['strikethrough_count'] = df['body_html'].map(lambda x : st_count(x))"
   ]
  },
  {
   "cell_type": "code",
   "execution_count": 24,
   "metadata": {
    "collapsed": true
   },
   "outputs": [],
   "source": [
    "def bq_count(html):\n",
    "    bq = re.findall('<blockquote>', html)\n",
    "    count = len(bq)\n",
    "    return count\n",
    "\n",
    "df['blockquote_count'] = df['body_html'].map(lambda x : bq_count(x))"
   ]
  },
  {
   "cell_type": "code",
   "execution_count": 25,
   "metadata": {
    "collapsed": true
   },
   "outputs": [],
   "source": [
    "def p_count(html):\n",
    "    ps = re.findall('<p>', html)\n",
    "    count = len(ps)\n",
    "    return count\n",
    "\n",
    "df['paragraph_count'] = df['body_html'].map(lambda x : p_count(x))"
   ]
  },
  {
   "cell_type": "code",
   "execution_count": 38,
   "metadata": {
    "collapsed": false
   },
   "outputs": [],
   "source": [
    "import string\n",
    "titles_orig = list(set([str(x.title.replace(u\"\\u2019\", u\"\\'\")) for x in df._submission]))\n",
    "titles = [x.translate(None, string.punctuation).lower() for x in titles_orig]\n",
    "question_words = ['who', 'whos', 'whose', 'what', 'whats', 'where', 'wheres', 'when', 'whens', 'why', 'how', 'hows']\n",
    "trivial_words = ['that', 'have', 'been', 'should', 'your', 'youre', 'were', 'with', 'does',\n",
    "                 'youve', 'about', 'wasnt', 'dont', 'just', 'from', 'this', 'could']\n",
    "\n",
    "titles_list = [x.split() for x in titles]\n",
    "\n",
    "# remove length 1, 2, and 3 words, and words from question_words and trivial_words\n",
    "filtered_titles = [[x for x in elt if len(x) > 3 and x not in question_words and x not in trivial_words] for elt in titles_list]\n",
    "\n",
    "import nltk\n",
    "from nltk.corpus import wordnet\n",
    "\n",
    "synonyms_d = {}\n",
    "\n",
    "for i in range(len(titles_orig)):\n",
    "    synonyms = []\n",
    "    for word in filtered_titles[i]:\n",
    "        for ss in wordnet.synsets(word):\n",
    "            syn_list_spaces = [str(x).replace('_', ' ') for x in ss.lemma_names()]\n",
    "            synonyms += syn_list_spaces\n",
    "    synonyms_d[titles_orig[i]] = set(synonyms)\n",
    "\n",
    "syn_number = []\n",
    "syn_proportion = []\n",
    "\n",
    "for index, row in df.iterrows():\n",
    "    synonyms = synonyms_d[str(row._submission.title.replace(u\"\\u2019\", u\"\\'\"))]\n",
    "    comment_list = [x.encode(\"utf-8\") for x in row.body.split()]\n",
    "    if len(comment_list) == 0:\n",
    "        syn_number.append(0)\n",
    "        syn_proportion.append(0.)\n",
    "        continue\n",
    "    count = sum([1 for word in comment_list if word in synonyms])\n",
    "    syn_number.append(count)\n",
    "    syn_proportion.append(float(count)/float(len(comment_list)))\n",
    "\n",
    "df['syn_count'] = syn_number\n",
    "df['syn_perc'] = syn_proportion"
   ]
  },
  {
   "cell_type": "code",
   "execution_count": 39,
   "metadata": {
    "collapsed": true
   },
   "outputs": [],
   "source": [
    "df['un_length'] = df['author'].map(lambda x : len(str(x)))"
   ]
  },
  {
   "cell_type": "code",
   "execution_count": 40,
   "metadata": {
    "collapsed": true
   },
   "outputs": [],
   "source": [
    "def un_punc (text):\n",
    "    total = 0\n",
    "    if '_' in text: total += 1\n",
    "    if '-' in text: total += 1\n",
    "    return total\n",
    "\n",
    "df['un_punc'] = df['author'].map(lambda x : un_punc(str(x)))"
   ]
  },
  {
   "cell_type": "code",
   "execution_count": 41,
   "metadata": {
    "collapsed": true
   },
   "outputs": [],
   "source": [
    "def un_case (text):\n",
    "    if text.islower(): return 0\n",
    "    if text.isupper(): return 1\n",
    "    return 2\n",
    "\n",
    "df['un_case'] = df['author'].map(lambda x : un_case(str(x)))"
   ]
  },
  {
   "cell_type": "code",
   "execution_count": 42,
   "metadata": {
    "collapsed": true
   },
   "outputs": [],
   "source": [
    "def un_number (text):    \n",
    "    numbers = sum(c.isdigit() for c in text)\n",
    "    return float(numbers)/float(len(text))\n",
    "\n",
    "df['un_number'] = df['author'].map(lambda x : un_number(str(x)))"
   ]
  },
  {
   "cell_type": "code",
   "execution_count": 43,
   "metadata": {
    "collapsed": true
   },
   "outputs": [],
   "source": [
    "df['un_PM'] = df['author'].map(lambda x : 1 if str(x)[:3] == \"PM_\" else 0)\n",
    "df['un_bot'] = df['author'].map(lambda x : 1 if 'bot' in str(x).lower() else 0)"
   ]
  },
  {
   "cell_type": "code",
   "execution_count": 44,
   "metadata": {
    "collapsed": true
   },
   "outputs": [],
   "source": [
    "df['i_author_flair_css_class']=(df.author_flair_css_class.notnull())*1\n",
    "del df['author_flair_css_class']\n",
    "df['i_author_flair_text']=(df.author_flair_text.notnull())*1\n",
    "del df['author_flair_text']\n",
    "df['i_distinguished']=(df.distinguished.notnull())*1\n",
    "del df['distinguished']\n",
    "df['i_edited']=(df.edited)*1\n",
    "del df['edited']\n",
    "df['i_score_hidden']=(df.score_hidden)*1\n",
    "del df['score_hidden']\n",
    "df['i_banned_by']=(df.banned_by.notnull())*1\n",
    "del df['banned_by']"
   ]
  },
  {
   "cell_type": "code",
   "execution_count": 45,
   "metadata": {
    "collapsed": false,
    "scrolled": false
   },
   "outputs": [
    {
     "data": {
      "text/html": [
       "<div>\n",
       "<table border=\"1\" class=\"dataframe\">\n",
       "  <thead>\n",
       "    <tr style=\"text-align: right;\">\n",
       "      <th></th>\n",
       "      <th>_replies</th>\n",
       "      <th>_submission</th>\n",
       "      <th>author</th>\n",
       "      <th>body</th>\n",
       "      <th>body_html</th>\n",
       "      <th>controversiality</th>\n",
       "      <th>created</th>\n",
       "      <th>created_utc</th>\n",
       "      <th>downs</th>\n",
       "      <th>gilded</th>\n",
       "      <th>...</th>\n",
       "      <th>un_case</th>\n",
       "      <th>un_number</th>\n",
       "      <th>un_PM</th>\n",
       "      <th>un_bot</th>\n",
       "      <th>i_author_flair_css_class</th>\n",
       "      <th>i_author_flair_text</th>\n",
       "      <th>i_distinguished</th>\n",
       "      <th>i_edited</th>\n",
       "      <th>i_score_hidden</th>\n",
       "      <th>i_banned_by</th>\n",
       "    </tr>\n",
       "  </thead>\n",
       "  <tbody>\n",
       "    <tr>\n",
       "      <th>0</th>\n",
       "      <td>[That guy is more confused than a toddler at a...</td>\n",
       "      <td>5809 :: What is an analogy that gets your poin...</td>\n",
       "      <td>implementor</td>\n",
       "      <td>One I heard from my grandfather, about a kid t...</td>\n",
       "      <td>&lt;div class=\"md\"&gt;&lt;p&gt;One I heard from my grandfa...</td>\n",
       "      <td>0</td>\n",
       "      <td>1447359044</td>\n",
       "      <td>1447330244</td>\n",
       "      <td>0</td>\n",
       "      <td>0</td>\n",
       "      <td>...</td>\n",
       "      <td>0</td>\n",
       "      <td>0</td>\n",
       "      <td>0</td>\n",
       "      <td>0</td>\n",
       "      <td>0</td>\n",
       "      <td>0</td>\n",
       "      <td>0</td>\n",
       "      <td>0</td>\n",
       "      <td>0</td>\n",
       "      <td>0</td>\n",
       "    </tr>\n",
       "    <tr>\n",
       "      <th>1</th>\n",
       "      <td>[Oooh,  I'm stealing this one for the people t...</td>\n",
       "      <td>5809 :: What is an analogy that gets your poin...</td>\n",
       "      <td>PuxinF</td>\n",
       "      <td>Motorcycles are like butt plugs.  It doesn't m...</td>\n",
       "      <td>&lt;div class=\"md\"&gt;&lt;p&gt;Motorcycles are like butt p...</td>\n",
       "      <td>0</td>\n",
       "      <td>1447347016</td>\n",
       "      <td>1447318216</td>\n",
       "      <td>0</td>\n",
       "      <td>0</td>\n",
       "      <td>...</td>\n",
       "      <td>2</td>\n",
       "      <td>0</td>\n",
       "      <td>0</td>\n",
       "      <td>0</td>\n",
       "      <td>0</td>\n",
       "      <td>0</td>\n",
       "      <td>0</td>\n",
       "      <td>0</td>\n",
       "      <td>0</td>\n",
       "      <td>0</td>\n",
       "    </tr>\n",
       "    <tr>\n",
       "      <th>2</th>\n",
       "      <td>[Huh, this actually seems the most relevant an...</td>\n",
       "      <td>5809 :: What is an analogy that gets your poin...</td>\n",
       "      <td>FlyingGerbel</td>\n",
       "      <td>My boss was once describing the size of a smal...</td>\n",
       "      <td>&lt;div class=\"md\"&gt;&lt;p&gt;My boss was once describing...</td>\n",
       "      <td>0</td>\n",
       "      <td>1447346788</td>\n",
       "      <td>1447317988</td>\n",
       "      <td>0</td>\n",
       "      <td>0</td>\n",
       "      <td>...</td>\n",
       "      <td>2</td>\n",
       "      <td>0</td>\n",
       "      <td>0</td>\n",
       "      <td>0</td>\n",
       "      <td>0</td>\n",
       "      <td>0</td>\n",
       "      <td>0</td>\n",
       "      <td>0</td>\n",
       "      <td>0</td>\n",
       "      <td>0</td>\n",
       "    </tr>\n",
       "    <tr>\n",
       "      <th>3</th>\n",
       "      <td>[I've heard them referred to as mumble pants -...</td>\n",
       "      <td>5809 :: What is an analogy that gets your poin...</td>\n",
       "      <td>Toady_</td>\n",
       "      <td>My mom, while talking about one of my sisters'...</td>\n",
       "      <td>&lt;div class=\"md\"&gt;&lt;p&gt;My mom, while talking about...</td>\n",
       "      <td>0</td>\n",
       "      <td>1447344342</td>\n",
       "      <td>1447315542</td>\n",
       "      <td>0</td>\n",
       "      <td>0</td>\n",
       "      <td>...</td>\n",
       "      <td>2</td>\n",
       "      <td>0</td>\n",
       "      <td>0</td>\n",
       "      <td>0</td>\n",
       "      <td>0</td>\n",
       "      <td>0</td>\n",
       "      <td>0</td>\n",
       "      <td>0</td>\n",
       "      <td>0</td>\n",
       "      <td>0</td>\n",
       "    </tr>\n",
       "    <tr>\n",
       "      <th>4</th>\n",
       "      <td>[Placeholder post until I can come up with a q...</td>\n",
       "      <td>5809 :: What is an analogy that gets your poin...</td>\n",
       "      <td>shidonichan</td>\n",
       "      <td>maybe not *wildly* inappropriate, but:\\n\\ni've...</td>\n",
       "      <td>&lt;div class=\"md\"&gt;&lt;p&gt;maybe not &lt;em&gt;wildly&lt;/em&gt; i...</td>\n",
       "      <td>0</td>\n",
       "      <td>1447341519</td>\n",
       "      <td>1447312719</td>\n",
       "      <td>0</td>\n",
       "      <td>0</td>\n",
       "      <td>...</td>\n",
       "      <td>0</td>\n",
       "      <td>0</td>\n",
       "      <td>0</td>\n",
       "      <td>0</td>\n",
       "      <td>0</td>\n",
       "      <td>0</td>\n",
       "      <td>0</td>\n",
       "      <td>0</td>\n",
       "      <td>0</td>\n",
       "      <td>0</td>\n",
       "    </tr>\n",
       "  </tbody>\n",
       "</table>\n",
       "<p>5 rows × 39 columns</p>\n",
       "</div>"
      ],
      "text/plain": [
       "                                            _replies  \\\n",
       "0  [That guy is more confused than a toddler at a...   \n",
       "1  [Oooh,  I'm stealing this one for the people t...   \n",
       "2  [Huh, this actually seems the most relevant an...   \n",
       "3  [I've heard them referred to as mumble pants -...   \n",
       "4  [Placeholder post until I can come up with a q...   \n",
       "\n",
       "                                         _submission        author  \\\n",
       "0  5809 :: What is an analogy that gets your poin...   implementor   \n",
       "1  5809 :: What is an analogy that gets your poin...        PuxinF   \n",
       "2  5809 :: What is an analogy that gets your poin...  FlyingGerbel   \n",
       "3  5809 :: What is an analogy that gets your poin...        Toady_   \n",
       "4  5809 :: What is an analogy that gets your poin...   shidonichan   \n",
       "\n",
       "                                                body  \\\n",
       "0  One I heard from my grandfather, about a kid t...   \n",
       "1  Motorcycles are like butt plugs.  It doesn't m...   \n",
       "2  My boss was once describing the size of a smal...   \n",
       "3  My mom, while talking about one of my sisters'...   \n",
       "4  maybe not *wildly* inappropriate, but:\\n\\ni've...   \n",
       "\n",
       "                                           body_html  controversiality  \\\n",
       "0  <div class=\"md\"><p>One I heard from my grandfa...                 0   \n",
       "1  <div class=\"md\"><p>Motorcycles are like butt p...                 0   \n",
       "2  <div class=\"md\"><p>My boss was once describing...                 0   \n",
       "3  <div class=\"md\"><p>My mom, while talking about...                 0   \n",
       "4  <div class=\"md\"><p>maybe not <em>wildly</em> i...                 0   \n",
       "\n",
       "      created  created_utc  downs  gilded     ...       un_case un_number  \\\n",
       "0  1447359044   1447330244      0       0     ...             0         0   \n",
       "1  1447347016   1447318216      0       0     ...             2         0   \n",
       "2  1447346788   1447317988      0       0     ...             2         0   \n",
       "3  1447344342   1447315542      0       0     ...             2         0   \n",
       "4  1447341519   1447312719      0       0     ...             0         0   \n",
       "\n",
       "  un_PM  un_bot  i_author_flair_css_class  i_author_flair_text  \\\n",
       "0     0       0                         0                    0   \n",
       "1     0       0                         0                    0   \n",
       "2     0       0                         0                    0   \n",
       "3     0       0                         0                    0   \n",
       "4     0       0                         0                    0   \n",
       "\n",
       "   i_distinguished  i_edited  i_score_hidden  i_banned_by  \n",
       "0                0         0               0            0  \n",
       "1                0         0               0            0  \n",
       "2                0         0               0            0  \n",
       "3                0         0               0            0  \n",
       "4                0         0               0            0  \n",
       "\n",
       "[5 rows x 39 columns]"
      ]
     },
     "execution_count": 45,
     "metadata": {},
     "output_type": "execute_result"
    }
   ],
   "source": [
    "df.head()"
   ]
  },
  {
   "cell_type": "markdown",
   "metadata": {},
   "source": [
    "Pickling our work:"
   ]
  },
  {
   "cell_type": "code",
   "execution_count": 2,
   "metadata": {
    "collapsed": false
   },
   "outputs": [
    {
     "data": {
      "text/html": [
       "<div>\n",
       "<table border=\"1\" class=\"dataframe\">\n",
       "  <thead>\n",
       "    <tr style=\"text-align: right;\">\n",
       "      <th></th>\n",
       "      <th>_replies</th>\n",
       "      <th>_submission</th>\n",
       "      <th>author</th>\n",
       "      <th>body</th>\n",
       "      <th>body_html</th>\n",
       "      <th>controversiality</th>\n",
       "      <th>created</th>\n",
       "      <th>created_utc</th>\n",
       "      <th>downs</th>\n",
       "      <th>gilded</th>\n",
       "      <th>score</th>\n",
       "      <th>subreddit</th>\n",
       "      <th>thread</th>\n",
       "      <th>ups</th>\n",
       "      <th>character_count</th>\n",
       "      <th>time_delay</th>\n",
       "      <th>word_count</th>\n",
       "      <th>swear_count</th>\n",
       "      <th>word_size</th>\n",
       "      <th>link_count</th>\n",
       "      <th>italics_count</th>\n",
       "      <th>bold_count</th>\n",
       "      <th>strikethrough_count</th>\n",
       "      <th>blockquote_count</th>\n",
       "      <th>paragraph_count</th>\n",
       "      <th>syn_count</th>\n",
       "      <th>syn_perc</th>\n",
       "      <th>un_length</th>\n",
       "      <th>un_punc</th>\n",
       "      <th>un_case</th>\n",
       "      <th>un_number</th>\n",
       "      <th>un_PM</th>\n",
       "      <th>un_bot</th>\n",
       "      <th>i_author_flair_css_class</th>\n",
       "      <th>i_author_flair_text</th>\n",
       "      <th>i_distinguished</th>\n",
       "      <th>i_edited</th>\n",
       "      <th>i_score_hidden</th>\n",
       "      <th>i_banned_by</th>\n",
       "    </tr>\n",
       "  </thead>\n",
       "  <tbody>\n",
       "    <tr>\n",
       "      <th>0</th>\n",
       "      <td>[That guy is more confused than a toddler at a...</td>\n",
       "      <td>5809 :: What is an analogy that gets your poin...</td>\n",
       "      <td>implementor</td>\n",
       "      <td>One I heard from my grandfather, about a kid t...</td>\n",
       "      <td>&lt;div class=\"md\"&gt;&lt;p&gt;One I heard from my grandfa...</td>\n",
       "      <td>0</td>\n",
       "      <td>1447359044</td>\n",
       "      <td>1447330244</td>\n",
       "      <td>0</td>\n",
       "      <td>0</td>\n",
       "      <td>2504</td>\n",
       "      <td>AskReddit</td>\n",
       "      <td>3si0bb</td>\n",
       "      <td>2504</td>\n",
       "      <td>132</td>\n",
       "      <td>26838</td>\n",
       "      <td>28</td>\n",
       "      <td>3</td>\n",
       "      <td>3</td>\n",
       "      <td>0</td>\n",
       "      <td>0</td>\n",
       "      <td>0</td>\n",
       "      <td>0</td>\n",
       "      <td>0</td>\n",
       "      <td>1</td>\n",
       "      <td>2</td>\n",
       "      <td>0.076923</td>\n",
       "      <td>11</td>\n",
       "      <td>0</td>\n",
       "      <td>0</td>\n",
       "      <td>0</td>\n",
       "      <td>0</td>\n",
       "      <td>0</td>\n",
       "      <td>0</td>\n",
       "      <td>0</td>\n",
       "      <td>0</td>\n",
       "      <td>0</td>\n",
       "      <td>0</td>\n",
       "      <td>0</td>\n",
       "    </tr>\n",
       "    <tr>\n",
       "      <th>1</th>\n",
       "      <td>[Oooh,  I'm stealing this one for the people t...</td>\n",
       "      <td>5809 :: What is an analogy that gets your poin...</td>\n",
       "      <td>PuxinF</td>\n",
       "      <td>Motorcycles are like butt plugs.  It doesn't m...</td>\n",
       "      <td>&lt;div class=\"md\"&gt;&lt;p&gt;Motorcycles are like butt p...</td>\n",
       "      <td>0</td>\n",
       "      <td>1447347016</td>\n",
       "      <td>1447318216</td>\n",
       "      <td>0</td>\n",
       "      <td>0</td>\n",
       "      <td>3278</td>\n",
       "      <td>AskReddit</td>\n",
       "      <td>3si0bb</td>\n",
       "      <td>3278</td>\n",
       "      <td>118</td>\n",
       "      <td>14810</td>\n",
       "      <td>22</td>\n",
       "      <td>1</td>\n",
       "      <td>4</td>\n",
       "      <td>0</td>\n",
       "      <td>1</td>\n",
       "      <td>0</td>\n",
       "      <td>0</td>\n",
       "      <td>0</td>\n",
       "      <td>1</td>\n",
       "      <td>1</td>\n",
       "      <td>0.047619</td>\n",
       "      <td>6</td>\n",
       "      <td>0</td>\n",
       "      <td>2</td>\n",
       "      <td>0</td>\n",
       "      <td>0</td>\n",
       "      <td>0</td>\n",
       "      <td>0</td>\n",
       "      <td>0</td>\n",
       "      <td>0</td>\n",
       "      <td>0</td>\n",
       "      <td>0</td>\n",
       "      <td>0</td>\n",
       "    </tr>\n",
       "    <tr>\n",
       "      <th>2</th>\n",
       "      <td>[Huh, this actually seems the most relevant an...</td>\n",
       "      <td>5809 :: What is an analogy that gets your poin...</td>\n",
       "      <td>FlyingGerbel</td>\n",
       "      <td>My boss was once describing the size of a smal...</td>\n",
       "      <td>&lt;div class=\"md\"&gt;&lt;p&gt;My boss was once describing...</td>\n",
       "      <td>0</td>\n",
       "      <td>1447346788</td>\n",
       "      <td>1447317988</td>\n",
       "      <td>0</td>\n",
       "      <td>0</td>\n",
       "      <td>6277</td>\n",
       "      <td>AskReddit</td>\n",
       "      <td>3si0bb</td>\n",
       "      <td>6277</td>\n",
       "      <td>313</td>\n",
       "      <td>14582</td>\n",
       "      <td>61</td>\n",
       "      <td>0</td>\n",
       "      <td>3</td>\n",
       "      <td>0</td>\n",
       "      <td>0</td>\n",
       "      <td>0</td>\n",
       "      <td>0</td>\n",
       "      <td>0</td>\n",
       "      <td>3</td>\n",
       "      <td>1</td>\n",
       "      <td>0.016667</td>\n",
       "      <td>12</td>\n",
       "      <td>0</td>\n",
       "      <td>2</td>\n",
       "      <td>0</td>\n",
       "      <td>0</td>\n",
       "      <td>0</td>\n",
       "      <td>0</td>\n",
       "      <td>0</td>\n",
       "      <td>0</td>\n",
       "      <td>0</td>\n",
       "      <td>0</td>\n",
       "      <td>0</td>\n",
       "    </tr>\n",
       "    <tr>\n",
       "      <th>3</th>\n",
       "      <td>[I've heard them referred to as mumble pants -...</td>\n",
       "      <td>5809 :: What is an analogy that gets your poin...</td>\n",
       "      <td>Toady_</td>\n",
       "      <td>My mom, while talking about one of my sisters'...</td>\n",
       "      <td>&lt;div class=\"md\"&gt;&lt;p&gt;My mom, while talking about...</td>\n",
       "      <td>0</td>\n",
       "      <td>1447344342</td>\n",
       "      <td>1447315542</td>\n",
       "      <td>0</td>\n",
       "      <td>0</td>\n",
       "      <td>3976</td>\n",
       "      <td>AskReddit</td>\n",
       "      <td>3si0bb</td>\n",
       "      <td>3976</td>\n",
       "      <td>114</td>\n",
       "      <td>12136</td>\n",
       "      <td>22</td>\n",
       "      <td>0</td>\n",
       "      <td>3</td>\n",
       "      <td>0</td>\n",
       "      <td>0</td>\n",
       "      <td>0</td>\n",
       "      <td>0</td>\n",
       "      <td>0</td>\n",
       "      <td>1</td>\n",
       "      <td>0</td>\n",
       "      <td>0.000000</td>\n",
       "      <td>6</td>\n",
       "      <td>1</td>\n",
       "      <td>2</td>\n",
       "      <td>0</td>\n",
       "      <td>0</td>\n",
       "      <td>0</td>\n",
       "      <td>0</td>\n",
       "      <td>0</td>\n",
       "      <td>0</td>\n",
       "      <td>0</td>\n",
       "      <td>0</td>\n",
       "      <td>0</td>\n",
       "    </tr>\n",
       "    <tr>\n",
       "      <th>4</th>\n",
       "      <td>[Placeholder post until I can come up with a q...</td>\n",
       "      <td>5809 :: What is an analogy that gets your poin...</td>\n",
       "      <td>shidonichan</td>\n",
       "      <td>maybe not *wildly* inappropriate, but:\\n\\ni've...</td>\n",
       "      <td>&lt;div class=\"md\"&gt;&lt;p&gt;maybe not &lt;em&gt;wildly&lt;/em&gt; i...</td>\n",
       "      <td>0</td>\n",
       "      <td>1447341519</td>\n",
       "      <td>1447312719</td>\n",
       "      <td>0</td>\n",
       "      <td>0</td>\n",
       "      <td>2915</td>\n",
       "      <td>AskReddit</td>\n",
       "      <td>3si0bb</td>\n",
       "      <td>2915</td>\n",
       "      <td>295</td>\n",
       "      <td>9313</td>\n",
       "      <td>54</td>\n",
       "      <td>1</td>\n",
       "      <td>4</td>\n",
       "      <td>0</td>\n",
       "      <td>2</td>\n",
       "      <td>0</td>\n",
       "      <td>0</td>\n",
       "      <td>0</td>\n",
       "      <td>2</td>\n",
       "      <td>2</td>\n",
       "      <td>0.039216</td>\n",
       "      <td>11</td>\n",
       "      <td>0</td>\n",
       "      <td>0</td>\n",
       "      <td>0</td>\n",
       "      <td>0</td>\n",
       "      <td>0</td>\n",
       "      <td>0</td>\n",
       "      <td>0</td>\n",
       "      <td>0</td>\n",
       "      <td>0</td>\n",
       "      <td>0</td>\n",
       "      <td>0</td>\n",
       "    </tr>\n",
       "  </tbody>\n",
       "</table>\n",
       "</div>"
      ],
      "text/plain": [
       "                                            _replies                                        _submission        author                                               body                                          body_html  controversiality     created  created_utc  downs  gilded  score  subreddit  thread   ups  character_count  time_delay  word_count  swear_count  word_size  link_count  italics_count  bold_count  strikethrough_count  blockquote_count  paragraph_count  syn_count  syn_perc  \\\n",
       "0  [That guy is more confused than a toddler at a...  5809 :: What is an analogy that gets your poin...   implementor  One I heard from my grandfather, about a kid t...  <div class=\"md\"><p>One I heard from my grandfa...                 0  1447359044   1447330244      0       0   2504  AskReddit  3si0bb  2504              132       26838          28            3          3           0              0           0                    0                 0                1          2  0.076923   \n",
       "1  [Oooh,  I'm stealing this one for the people t...  5809 :: What is an analogy that gets your poin...        PuxinF  Motorcycles are like butt plugs.  It doesn't m...  <div class=\"md\"><p>Motorcycles are like butt p...                 0  1447347016   1447318216      0       0   3278  AskReddit  3si0bb  3278              118       14810          22            1          4           0              1           0                    0                 0                1          1  0.047619   \n",
       "2  [Huh, this actually seems the most relevant an...  5809 :: What is an analogy that gets your poin...  FlyingGerbel  My boss was once describing the size of a smal...  <div class=\"md\"><p>My boss was once describing...                 0  1447346788   1447317988      0       0   6277  AskReddit  3si0bb  6277              313       14582          61            0          3           0              0           0                    0                 0                3          1  0.016667   \n",
       "3  [I've heard them referred to as mumble pants -...  5809 :: What is an analogy that gets your poin...        Toady_  My mom, while talking about one of my sisters'...  <div class=\"md\"><p>My mom, while talking about...                 0  1447344342   1447315542      0       0   3976  AskReddit  3si0bb  3976              114       12136          22            0          3           0              0           0                    0                 0                1          0  0.000000   \n",
       "4  [Placeholder post until I can come up with a q...  5809 :: What is an analogy that gets your poin...   shidonichan  maybe not *wildly* inappropriate, but:\\n\\ni've...  <div class=\"md\"><p>maybe not <em>wildly</em> i...                 0  1447341519   1447312719      0       0   2915  AskReddit  3si0bb  2915              295        9313          54            1          4           0              2           0                    0                 0                2          2  0.039216   \n",
       "\n",
       "   un_length  un_punc  un_case  un_number  un_PM  un_bot  i_author_flair_css_class  i_author_flair_text  i_distinguished i_edited  i_score_hidden  i_banned_by  \n",
       "0         11        0        0          0      0       0                         0                    0                0        0               0            0  \n",
       "1          6        0        2          0      0       0                         0                    0                0        0               0            0  \n",
       "2         12        0        2          0      0       0                         0                    0                0        0               0            0  \n",
       "3          6        1        2          0      0       0                         0                    0                0        0               0            0  \n",
       "4         11        0        0          0      0       0                         0                    0                0        0               0            0  "
      ]
     },
     "execution_count": 2,
     "metadata": {},
     "output_type": "execute_result"
    }
   ],
   "source": [
    "cPickle.dump(df, open('df_v_features.p', 'wb'))\n",
    "df_test = cPickle.load(open('df_v_features.p', 'rb'))\n",
    "df_test.head()"
   ]
  },
  {
   "cell_type": "markdown",
   "metadata": {},
   "source": [
    "And now we can test out our models. Starting with Decision Trees and Random Forest:"
   ]
  },
  {
   "cell_type": "code",
   "execution_count": 3,
   "metadata": {
    "collapsed": false
   },
   "outputs": [],
   "source": [
    "trees = cPickle.load(open('clftree.p', 'rb'))"
   ]
  },
  {
   "cell_type": "code",
   "execution_count": 4,
   "metadata": {
    "collapsed": false
   },
   "outputs": [],
   "source": [
    "forest = cPickle.load(open('clfforest.p', 'rb'))"
   ]
  },
  {
   "cell_type": "code",
   "execution_count": 5,
   "metadata": {
    "collapsed": true
   },
   "outputs": [],
   "source": [
    "cols = ['created_utc',\n",
    "        'time_delay',\n",
    "        'word_count',\n",
    "        'character_count',\n",
    "        'swear_count',\n",
    "        'word_size',\n",
    "        'link_count',\n",
    "        'italics_count',\n",
    "        'bold_count',\n",
    "        'strikethrough_count',\n",
    "        'blockquote_count',\n",
    "        'paragraph_count',\n",
    "        'syn_count',\n",
    "        'syn_perc',\n",
    "        'un_length',\n",
    "        'un_punc',\n",
    "        'un_case',\n",
    "        'un_number',\n",
    "        'un_PM',\n",
    "        'un_bot'\n",
    "        ]"
   ]
  },
  {
   "cell_type": "code",
   "execution_count": 6,
   "metadata": {
    "collapsed": false
   },
   "outputs": [
    {
     "name": "stdout",
     "output_type": "stream",
     "text": [
      "Decision Tree MAE: 78.4599933875\n",
      "Random forest MAE: 79.3170001888\n",
      "Median MAE: 78.00347949\n",
      "Mode MAE: 78.5517438225\n",
      "Mean MAE: 145.088082883\n"
     ]
    }
   ],
   "source": [
    "decision_tree_predictions = trees.predict(df_test[cols])\n",
    "random_forest_predictions = forest.predict(df_test[cols])\n",
    "\n",
    "print \"Decision Tree MAE:\", np.mean(abs(np.exp(decision_tree_predictions) - df_test.ups))\n",
    "print \"Random forest MAE:\", np.mean(abs(np.exp(random_forest_predictions) - df_test.ups))\n",
    "print \"Median MAE:\", np.mean(abs(2 - df_test.ups))\n",
    "print \"Mode MAE:\", np.mean(abs(1 - df_test.ups))\n",
    "print \"Mean MAE:\", np.mean(abs(79.3385934016 - df_test.ups))"
   ]
  },
  {
   "cell_type": "markdown",
   "metadata": {},
   "source": [
    "Not too good -- the random forest predictor does slightly worse than our baseline median/mode predictors, and the decision tree predictor does worse than the median. Let's see if we can visualize what's going on -- that is, what our predictions look like compared to what the actual scores look like."
   ]
  },
  {
   "cell_type": "code",
   "execution_count": 13,
   "metadata": {
    "collapsed": false
   },
   "outputs": [
    {
     "data": {
      "image/png": "[encoded data removed]",
      "text/plain": [
       "<matplotlib.figure.Figure at 0x48d6b1d0>"
      ]
     },
     "metadata": {},
     "output_type": "display_data"
    }
   ],
   "source": [
    "fig, axes = plt.subplots(nrows=1, ncols=3, figsize=(30,10))\n",
    "\n",
    "bins = axes[0].hist(df_test.ups,100)[1]\n",
    "axes[0].set_title(\"Actual Comment Scores\")\n",
    "axes[1].hist(decision_tree_predictions, bins)\n",
    "axes[1].set_title(\"Decision Tree Predicted Comment Scores\")\n",
    "axes[2].hist(random_forest_predictions, bins)\n",
    "axes[2].set_title(\"Random Forest Predicted Comment Scores\")\n",
    "\n",
    "for ax in axes:\n",
    "    ax.set_xlabel(\"Score\")\n",
    "    ax.set_ylabel(\"Number of Comments\")"
   ]
  },
  {
   "cell_type": "markdown",
   "metadata": {},
   "source": [
    "In other words, our models are assigning scores near 1 to pretty much all comments. This is reflected in their performance being near that of the median and mode predictors, but it also shows that they are unable to glean the essence of what makes a post able to score high."
   ]
  },
  {
   "cell_type": "code",
   "execution_count": null,
   "metadata": {
    "collapsed": true
   },
   "outputs": [],
   "source": []
  }
 ],
 "metadata": {
  "kernelspec": {
   "display_name": "Python 2",
   "language": "python",
   "name": "python2"
  },
  "language_info": {
   "codemirror_mode": {
    "name": "ipython",
    "version": 2
   },
   "file_extension": ".py",
   "mimetype": "text/x-python",
   "name": "python",
   "nbconvert_exporter": "python",
   "pygments_lexer": "ipython2",
   "version": "2.7.10"
  }
 },
 "nbformat": 4,
 "nbformat_minor": 0
}
