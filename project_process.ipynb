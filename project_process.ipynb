{
 "cells": [
  {
   "cell_type": "markdown",
   "metadata": {},
   "source": [
    "# Team (◕‿◕✿)'s Project Process"
   ]
  },
  {
   "cell_type": "markdown",
   "metadata": {},
   "source": [
    "## 1. Scraping and cleaning our data\n",
    "First, we narrow down our comments to AskReddit comments made in the time range 10/01/2014 - 10/01/2015. \n",
    "\n",
    "The URL for the above filtering is: https://www.reddit.com/r/AskReddit/search?sort=comments&q=timestamp%3A1410739200..1411171200&restrict_sr=on&syntax=cloudsearch\n",
    "\n",
    "Breaking down the above URL:\n",
    "* **/r/AskReddit**: filter to subreddit AskReddit\n",
    "* **sort=comments**: the search results will be sorted based on number of comments\n",
    "* **timestamp%3A1410739200..1411171200&**: restrict to 10/01/2014 00:00:00 to 10/01/2015 00:00:00, which are translated into epochs in the URL.\n",
    "* **syntax=cloudsearch**: reddit's search is infamously bad. One reason is that its regular search syntax, Lucene, doesn't allow for timestamp search. We thus choose CloudSearch as our syntax instead, which allows us to use features (like timestamp searches) that Lucene does not allow.\n",
    "\n",
    "reddit will return at most 10"
   ]
  },
  {
   "cell_type": "code",
   "execution_count": 12,
   "metadata": {
    "collapsed": false
   },
   "outputs": [],
   "source": [
    "import praw\n",
    "r = praw.Reddit('Getting comments for CS109 Final Project, team (◕‿◕✿)')\n",
    "submission = r.get_submission(submission_id='2gg9vw')"
   ]
  },
  {
   "cell_type": "code",
   "execution_count": 13,
   "metadata": {
    "collapsed": false
   },
   "outputs": [
    {
     "name": "stdout",
     "output_type": "stream",
     "text": [
      "CPU times: user 1.98 s, sys: 133 ms, total: 2.11 s\n",
      "Wall time: 8min 24s\n"
     ]
    },
    {
     "data": {
      "text/plain": [
       "[<praw.objects.MoreComments at 0x104635fd0>]"
      ]
     },
     "execution_count": 13,
     "metadata": {},
     "output_type": "execute_result"
    }
   ],
   "source": [
    "%%time\n",
    "submission.replace_more_comments(limit=None, threshold=0)"
   ]
  },
  {
   "cell_type": "code",
   "execution_count": 28,
   "metadata": {
    "collapsed": false
   },
   "outputs": [
    {
     "name": "stdout",
     "output_type": "stream",
     "text": [
      "{'_has_fetched': True,\n",
      " '_has_fetched_replies': True,\n",
      " '_info_url': u'https://api.reddit.com/api/info/',\n",
      " '_replies': [<praw.objects.Comment object at 0x1039bcf50>,\n",
      "              <praw.objects.Comment object at 0x1047f5210>,\n",
      "              <praw.objects.Comment object at 0x1047f5310>,\n",
      "              <praw.objects.Comment object at 0x1047f5410>,\n",
      "              <praw.objects.Comment object at 0x1039e37d0>,\n",
      "              <praw.objects.Comment object at 0x104c9e5d0>],\n",
      " '_submission': <praw.objects.Submission object at 0x1039bc950>,\n",
      " '_underscore_names': [u'replies'],\n",
      " '_uniq': None,\n",
      " 'approved_by': None,\n",
      " 'archived': True,\n",
      " 'author': Redditor(user_name='Kensarowiwa'),\n",
      " 'author_flair_css_class': None,\n",
      " 'author_flair_text': None,\n",
      " 'banned_by': None,\n",
      " 'body': u'Omar Little ',\n",
      " 'body_html': u'<div class=\"md\"><p>Omar Little </p>\\n</div>',\n",
      " 'controversiality': 0,\n",
      " 'created': 1410820415.0,\n",
      " 'created_utc': 1410791615.0,\n",
      " 'distinguished': None,\n",
      " 'downs': 0,\n",
      " 'edited': False,\n",
      " 'gilded': 0,\n",
      " 'id': u'ckiw43d',\n",
      " 'json_dict': None,\n",
      " 'likes': None,\n",
      " 'link_id': u't3_2gg9vw',\n",
      " 'mod_reports': [],\n",
      " 'name': u't1_ckiw43d',\n",
      " 'num_reports': None,\n",
      " 'parent_id': u't3_2gg9vw',\n",
      " 'reddit_session': <praw.Reddit object at 0x1047e4390>,\n",
      " 'removal_reason': None,\n",
      " 'report_reasons': None,\n",
      " 'saved': False,\n",
      " 'score': 137,\n",
      " 'score_hidden': False,\n",
      " 'subreddit': Subreddit(subreddit_name='AskReddit'),\n",
      " 'subreddit_id': u't5_2qh1i',\n",
      " 'ups': 137,\n",
      " 'user_reports': []}\n"
     ]
    }
   ],
   "source": [
    "from pprint import pprint\n",
    "all_comments = submission.comments\n",
    "pprint (vars(all_comments[0]))"
   ]
  },
  {
   "cell_type": "code",
   "execution_count": null,
   "metadata": {
    "collapsed": true
   },
   "outputs": [],
   "source": []
  }
 ],
 "metadata": {
  "kernelspec": {
   "display_name": "Python 2",
   "language": "python",
   "name": "python2"
  },
  "language_info": {
   "codemirror_mode": {
    "name": "ipython",
    "version": 2
   },
   "file_extension": ".py",
   "mimetype": "text/x-python",
   "name": "python",
   "nbconvert_exporter": "python",
   "pygments_lexer": "ipython2",
   "version": "2.7.10"
  }
 },
 "nbformat": 4,
 "nbformat_minor": 0
}
